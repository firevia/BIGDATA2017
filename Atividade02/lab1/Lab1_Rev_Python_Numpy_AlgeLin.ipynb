{
 "cells": [
  {
   "cell_type": "markdown",
   "metadata": {},
   "source": [
    "![CMCC](http://cmcc.ufabc.edu.br/images/logo_site.jpg)\n",
    "\n",
    "# Lab 1: Revisão de Conceitos Básicos\n",
    "\n",
    "#### Nesse notebook revisaremos os conceitos básicos da linguagem de programação Python, Algebra Linear, o uso da biblioteca [NumPy](http://www.numpy.org/) e conceitos de Programação Funcional.\n",
    "\n",
    "#### A primeira parte abordará as diferenças de sintaxe da linguagem Python em relação ao Java e ao C/C++ e formas de otimizar o código. A segunda parte mostrará, os conceitos básicos da biblioteca Numpy e como utilizá-la para aplicar conceitos de Algebra Linear. Finalmente, a terceira parte mostrará os conceitos de Programação Funcional como *Expressões Lambda* e *Funções de Ordem Alta*.\n",
    "\n",
    "#### Para navegar pelo notebook execute cada uma das células utilizando a tecla de atalho SHIFT-ENTER, isso executará as intruções da célula *In* mostrando o resultado na célula *Out* correspondente. Todas as variáveis criadas em uma célula podem ser acessadas em todas as células subsequentes.\n",
    "\n",
    "#### As células-exercícios iniciam com o comentário `# EXERCICIO` e os códigos a serem completados estão marcados pelos comentários `<COMPLETAR>`.\n",
    "\n",
    "#### ** Nesse notebook: **\n",
    "#### *Parte 1:* Python\n",
    "#### *Parte 2:* NumPy\n",
    "#### *Parte 3:* Programação Funcional"
   ]
  },
  {
   "cell_type": "markdown",
   "metadata": {},
   "source": [
    "### **Parte 1: Python**"
   ]
  },
  {
   "cell_type": "markdown",
   "metadata": {},
   "source": [
    "#### ** (1a) Declarações de Variáveis **\n",
    "\n",
    "#### O tipo de variáveis no Python é definido dinâmicamente pelo interpretador. Não existe necessidade em declarar."
   ]
  },
  {
   "cell_type": "code",
   "execution_count": 1,
   "metadata": {},
   "outputs": [
    {
     "name": "stdout",
     "output_type": "stream",
     "text": [
      "<type 'int'>\n",
      "<type 'float'>\n",
      "<type 'str'>\n",
      "<type 'list'>\n"
     ]
    }
   ],
   "source": [
    "x = 10          # x é um inteiro\n",
    "print type(x)\n",
    "\n",
    "x = 1.3         # x é um ponto flutuante\n",
    "print type(x)\n",
    "\n",
    "x = \"Ola\"       # x é uma string\n",
    "print type(x)\n",
    "\n",
    "x = [1, 5, 10]  # x é uma lista\n",
    "print type(x)"
   ]
  },
  {
   "cell_type": "markdown",
   "metadata": {},
   "source": [
    "#### ** (1b) Indentações **\n",
    "\n",
    "No Python a indentação faz o papel das chaves para determinar o bloco de comandos de uma função, condicional ou laço de repetição. O início de um bloco é definido pelo caractere **\":\"**."
   ]
  },
  {
   "cell_type": "code",
   "execution_count": 3,
   "metadata": {},
   "outputs": [
    {
     "name": "stdout",
     "output_type": "stream",
     "text": [
      "51\n"
     ]
    }
   ],
   "source": [
    "x = 10\n",
    "\n",
    "for i in range(20):\n",
    "    # Início da repetição For\n",
    "    x = x + 1\n",
    "    if x%2 == 0:\n",
    "        # Instrução se condição verdadeira\n",
    "        x = x + 1\n",
    "    else:\n",
    "        # Instrução se a condição for falsa\n",
    "        x = x + 2\n",
    "    # Fim do bloco de repetição For\n",
    "print x # Isso está fora do for! Boa Ideia!"
   ]
  },
  {
   "cell_type": "markdown",
   "metadata": {},
   "source": [
    "#### ** (1c) Funções **\n",
    "\n",
    "As funções no Python podem receber quantas entradas necessárias e retornar múltiplas saídas. A declaração da função é precedida pela palavra-chave `def`."
   ]
  },
  {
   "cell_type": "code",
   "execution_count": 5,
   "metadata": {},
   "outputs": [
    {
     "name": "stdout",
     "output_type": "stream",
     "text": [
      "12 20 (12, 20)\n",
      "12 20\n"
     ]
    }
   ],
   "source": [
    "def Soma(x,y):\n",
    "    return x+y\n",
    "\n",
    "def Mult(x,y):\n",
    "    return x*y\n",
    "\n",
    "def SomaMult(x,y):\n",
    "    return x+y, x*y  # múltiplas saídas separadas por vírgula\n",
    "\n",
    "print Soma(10,2), Mult(10,2), SomaMult(10,2)\n",
    "\n",
    "# O retorno de múltiplas saídas podem ser atribuídas diretamente para múltiplas variáveis\n",
    "w,z = SomaMult(10,2)\n",
    "print w, z"
   ]
  },
  {
   "cell_type": "markdown",
   "metadata": {},
   "source": [
    "#### ** (1d) Tipos Especiais **\n",
    "\n",
    "#### Além dos tipos básicos de variáveis o Python possui os tipos lista (`list`), tupla (`tuple`) e dicionários (`dict`).\n",
    "\n",
    "#### As listas e tuplas são agregadores de valores e podem agrupar valores não necessariamente dos mesmos tipos. A diferença entre os dois é que listas são mutáveis (podem ser alterados) e tuplas são imutáveis. Elas são indexadas a partir do índice *0*.\n",
    "\n",
    "#### Os dicionários são arranjos associativos que permite associar uma chave (de qualquer tipo) a um valor (também de qualquer tipo)."
   ]
  },
  {
   "cell_type": "code",
   "execution_count": 6,
   "metadata": {},
   "outputs": [
    {
     "name": "stdout",
     "output_type": "stream",
     "text": [
      "[1, 3.0, True, 'palavra']\n"
     ]
    }
   ],
   "source": [
    "lista = [1, 2, True, \"palavra\"]\n",
    "tupla = (1, 2, True, \"palavra\")\n",
    "\n",
    "lista[1] = 3.0\n",
    "print lista"
   ]
  },
  {
   "cell_type": "code",
   "execution_count": 7,
   "metadata": {},
   "outputs": [
    {
     "ename": "TypeError",
     "evalue": "'tuple' object does not support item assignment",
     "output_type": "error",
     "traceback": [
      "\u001b[1;31m---------------------------------------------------------------------------\u001b[0m",
      "\u001b[1;31mTypeError\u001b[0m                                 Traceback (most recent call last)",
      "\u001b[1;32m<ipython-input-7-33a760d02a82>\u001b[0m in \u001b[0;36m<module>\u001b[1;34m()\u001b[0m\n\u001b[1;32m----> 1\u001b[1;33m \u001b[0mtupla\u001b[0m\u001b[1;33m[\u001b[0m\u001b[1;36m1\u001b[0m\u001b[1;33m]\u001b[0m \u001b[1;33m=\u001b[0m \u001b[1;36m3.0\u001b[0m \u001b[1;31m# Vai dar erro!\u001b[0m\u001b[1;33m\u001b[0m\u001b[0m\n\u001b[0m",
      "\u001b[1;31mTypeError\u001b[0m: 'tuple' object does not support item assignment"
     ]
    }
   ],
   "source": [
    "tupla[1] = 3.0 # Vai dar erro!"
   ]
  },
  {
   "cell_type": "code",
   "execution_count": 1,
   "metadata": {},
   "outputs": [
    {
     "name": "stdout",
     "output_type": "stream",
     "text": [
      "[2, 4, 6, 8] [2, 4, 6, 8]\n"
     ]
    }
   ],
   "source": [
    "# range(n) gera uma lista de valores entre 0 e n-1\n",
    "# len(lista) retorna o tamanho de uma lista\n",
    "def DobraValores(lista):\n",
    "    for i in range(len(lista)):\n",
    "        lista[i] = lista[i]*2\n",
    "    return lista\n",
    "\n",
    "lista = [1,2,3,4]\n",
    "lista2 = DobraValores(lista)\n",
    "\n",
    "print lista, lista2  # As listas são passadas como referência para as funções"
   ]
  },
  {
   "cell_type": "code",
   "execution_count": 12,
   "metadata": {},
   "outputs": [
    {
     "name": "stdout",
     "output_type": "stream",
     "text": [
      "12\n",
      "{'Jose': 17, 'Maria': 11, 'Ana': 12, 'Joao': 13}\n",
      "As chaves do dicionário são:  ['Jose', 'Maria', 'Ana', 'Joao']\n",
      "Os valores do dicionário são:  [17, 11, 12, 13]\n"
     ]
    }
   ],
   "source": [
    "dicionario = { \"Ana\":12, \"Joao\":13, \"Jose\":17 }  # declaração inicial do dicionário, pode ser {} para dic. vazio\n",
    "print dicionario[\"Ana\"]  # acesso ao elemento pela chave entre colchetes\n",
    "\n",
    "dicionario[\"Maria\"] = 11  # podemos alterar ou inserir um novo elemento\n",
    "\n",
    "print dicionario\n",
    "\n",
    "print \"As chaves do dicionário são: \", dicionario.keys()\n",
    "print \"Os valores do dicionário são: \", dicionario.values()"
   ]
  },
  {
   "cell_type": "markdown",
   "metadata": {},
   "source": [
    "#### ** (1e) Iteradores **\n",
    "\n",
    "#### Para iterar por uma lista, tupla ou dicionário podemos utilizar a palavra-chave `in`. Em conjunto com a instrução `for` ela percorre cada elemento iterativamente. Essa palavra-chave também pode ser utilizada para verificar se um elemento está contido na lista."
   ]
  },
  {
   "cell_type": "code",
   "execution_count": 14,
   "metadata": {},
   "outputs": [
    {
     "name": "stdout",
     "output_type": "stream",
     "text": [
      "True False\n",
      "0\n",
      "1\n",
      "2\n",
      "3\n",
      "4\n",
      "5\n",
      "6\n",
      "7\n",
      "8\n",
      "9\n"
     ]
    }
   ],
   "source": [
    "lista = range(10)  # gera a lista [0,..,9]\n",
    "print 8 in lista, 12 in lista\n",
    "\n",
    "for x in lista:\n",
    "    print x"
   ]
  },
  {
   "cell_type": "markdown",
   "metadata": {},
   "source": [
    "#### ** (1f) Geradores e List Comprehension **\n",
    "\n",
    "#### O Python permite uma sintaxe mais enxuta (e otimizada) para gerar uma nova lista de acordo com alguma regra específica:\n",
    "\n",
    "#### `[ funcao(x) for x in listaGeradora ]`"
   ]
  },
  {
   "cell_type": "code",
   "execution_count": 2,
   "metadata": {},
   "outputs": [
    {
     "name": "stdout",
     "output_type": "stream",
     "text": [
      "[1, 4, 9, 16, 25, 36, 49, 64, 81]\n",
      "[1, 4, 9, 16, 25, 36, 49, 64, 81]\n"
     ]
    }
   ],
   "source": [
    "# Jeito tradicional, mas não otimizado\n",
    "listaOriginal = [1,2,3,4,5,6,7,8,9]\n",
    "listaQuadrada = []\n",
    "for x in listaOriginal:\n",
    "    listaQuadrada.append(x*x)\n",
    "\n",
    "print listaQuadrada\n",
    "\n",
    "# Através do List Comprehension\n",
    "listaQuadrada = [ x*x for x in listaOriginal ]\n",
    "print listaQuadrada"
   ]
  },
  {
   "cell_type": "markdown",
   "metadata": {},
   "source": [
    "#### Quando precisamos trabalhar com listas muito grandes, mas sem a necessidade de acessar os elementos aleatóriamente, podemos utilizar os geradores.\n",
    "\n",
    "#### Um gerador define a instrução para gerar uma sequência, calculando cada elemento da sequência conforme requisitado."
   ]
  },
  {
   "cell_type": "code",
   "execution_count": 3,
   "metadata": {},
   "outputs": [
    {
     "name": "stdout",
     "output_type": "stream",
     "text": [
      "<generator object <genexpr> at 0x00000000072683F0>\n",
      "1\n",
      "4\n",
      "9\n",
      "16\n",
      "25\n",
      "36\n",
      "49\n",
      "64\n",
      "81\n"
     ]
    }
   ],
   "source": [
    "listaQuadrada = ( x*x for x in listaOriginal )\n",
    "print listaQuadrada # os elementos ainda não foram calculados\n",
    "\n",
    "for x in listaQuadrada:\n",
    "    print x # a cada iteração apenas o próximo elemento é calculado, a lista não existe na memória"
   ]
  },
  {
   "cell_type": "markdown",
   "metadata": {},
   "source": [
    "#### ** (1g) Arquivos **\n",
    "\n",
    "#### A leitura de arquivos é feita pelo comando `open()` que gera um apontador para arquivo, podemos utilizar o laço for para ler cada linha do arquivo iterativamente como uma string."
   ]
  },
  {
   "cell_type": "code",
   "execution_count": 4,
   "metadata": {
    "scrolled": true
   },
   "outputs": [
    {
     "ename": "IOError",
     "evalue": "[Errno 2] No such file or directory: 'Data\\\\Aula01\\\\exemplo.txt'",
     "output_type": "error",
     "traceback": [
      "\u001b[1;31m\u001b[0m",
      "\u001b[1;31mIOError\u001b[0mTraceback (most recent call last)",
      "\u001b[1;32m<ipython-input-4-bf0e68df8714>\u001b[0m in \u001b[0;36m<module>\u001b[1;34m()\u001b[0m\n\u001b[0;32m      4\u001b[0m \u001b[0marquivo\u001b[0m \u001b[1;33m=\u001b[0m \u001b[0mos\u001b[0m\u001b[1;33m.\u001b[0m\u001b[0mpath\u001b[0m\u001b[1;33m.\u001b[0m\u001b[0mjoin\u001b[0m\u001b[1;33m(\u001b[0m\u001b[0mcaminho\u001b[0m\u001b[1;33m,\u001b[0m\u001b[1;34m'exemplo.txt'\u001b[0m\u001b[1;33m)\u001b[0m\u001b[1;33m\u001b[0m\u001b[0m\n\u001b[0;32m      5\u001b[0m \u001b[1;33m\u001b[0m\u001b[0m\n\u001b[1;32m----> 6\u001b[1;33m \u001b[0mf\u001b[0m \u001b[1;33m=\u001b[0m \u001b[0mopen\u001b[0m\u001b[1;33m(\u001b[0m\u001b[0marquivo\u001b[0m\u001b[1;33m)\u001b[0m\u001b[1;33m\u001b[0m\u001b[0m\n\u001b[0m\u001b[0;32m      7\u001b[0m \u001b[1;32mfor\u001b[0m \u001b[0mlinha\u001b[0m \u001b[1;32min\u001b[0m \u001b[0mf\u001b[0m\u001b[1;33m:\u001b[0m\u001b[1;33m\u001b[0m\u001b[0m\n\u001b[0;32m      8\u001b[0m     \u001b[1;32mprint\u001b[0m \u001b[0mlinha\u001b[0m\u001b[1;33m\u001b[0m\u001b[0m\n",
      "\u001b[1;31mIOError\u001b[0m: [Errno 2] No such file or directory: 'Data\\\\Aula01\\\\exemplo.txt'"
     ]
    }
   ],
   "source": [
    "import os.path\n",
    "\n",
    "caminho = os.path.join('Data','Aula01')  # garante o uso correto de / ou \\\\ para diretórios\n",
    "arquivo = os.path.join(caminho,'exemplo.txt')\n",
    "\n",
    "f = open(arquivo)\n",
    "for linha in f:\n",
    "    print linha\n",
    "f.close()    "
   ]
  },
  {
   "cell_type": "markdown",
   "metadata": {},
   "source": [
    "### **Parte 2: Numpy**"
   ]
  },
  {
   "cell_type": "markdown",
   "metadata": {},
   "source": [
    "#### [NumPy](http://docs.scipy.org/doc/numpy/reference/) é uma biblioteca do Python para trabalhar com arrays. Essa biblioteca provê abstrações para utilizar arrays como vetores e matrizes. Ela é otimizada para ser rápida e eficiente em relação ao uso de memória. O tipo básico do NumPy é o [ndarray](http://docs.scipy.org/doc/numpy/reference/generated/numpy.ndarray.html), que é uma array multidimensional de tamanho fixo que contém elementos de um tipo apenas."
   ]
  },
  {
   "cell_type": "markdown",
   "metadata": {},
   "source": [
    "#### ** (2a) Multiplicação por Escalar **\n",
    "\n",
    "#### Para esse exercício, crie uma `ndarray` contendo os elementos \\[1, 2, 3\\] e multiplique essa array por 5. Use o comando [np.array()](http://docs.scipy.org/doc/numpy/reference/generated/numpy.array.html) para criar a array. Note que um dos possíveis parâmetros para essa função é ums lista do Python. A multiplicação escalar pode ser feita utilizando o operador `*`.\n",
    "\n",
    "#### Note que se você criar uma array partindo de uma lista do Python, você obterá uma array unidimensional, que é equivalente a um vetor."
   ]
  },
  {
   "cell_type": "code",
   "execution_count": 5,
   "metadata": {
    "collapsed": true
   },
   "outputs": [],
   "source": [
    "# Como convenção importaremos a biblioteca numpy como np\n",
    "import numpy as np"
   ]
  },
  {
   "cell_type": "code",
   "execution_count": 6,
   "metadata": {},
   "outputs": [
    {
     "name": "stdout",
     "output_type": "stream",
     "text": [
      "[1 2 3]\n",
      "[ 5 10 15]\n"
     ]
    }
   ],
   "source": [
    "# EXERCICIO\n",
    "# Crie uma array numpy com os valores 1, 2, 3\n",
    "lista1 = [1, 2, 3]\n",
    "arraySimples = np.array(lista1)\n",
    "# Faça o produto escalar multiplicando a array por 5\n",
    "vezesCinco = arraySimples * 5\n",
    "print arraySimples\n",
    "print vezesCinco"
   ]
  },
  {
   "cell_type": "code",
   "execution_count": 7,
   "metadata": {},
   "outputs": [
    {
     "name": "stdout",
     "output_type": "stream",
     "text": [
      "Correto!\n"
     ]
    }
   ],
   "source": [
    "# TESTE do exercício (2a)\n",
    "assert np.all(vezesCinco == [5, 10, 15]), 'valor incorreto para vezesCinco'\n",
    "print \"Correto!\""
   ]
  },
  {
   "cell_type": "markdown",
   "metadata": {},
   "source": [
    "#### ** (2b) Multiplicação elemento-a-elemento e produto interno **\n",
    "\n",
    "#### A multiplicação elemento-a-elemento é calculada como: $$ \\mathbf{x} \\odot \\mathbf{y} =  \\begin{bmatrix} x_1 y_1 \\\\\\  x_2 y_2 \\\\\\ \\vdots \\\\\\ x_n y_n \\end{bmatrix} $$\n",
    "\n",
    "#### E o do produto interno de dois vetores de mesmo tamanho $ n $: $$ \\mathbf{w} \\cdot \\mathbf{x} = \\sum_{i=1}^n w_i x_i $$\n",
    "\n",
    "#### Em alguns livros você também vê $ \\mathbf{w} \\cdot \\mathbf{x} $ escrito como  $ \\mathbf{w}^\\top \\mathbf{x} $\n",
    "\n",
    "#### O tipo Numpy Array suporta essas duas operações, ao utilizar o operador `*` para multiplicar dois vetores ou matrizes, ele executará a multiplicação elemento-a-elemento. Para realizar o produto interno você pode utilizar tanto a função `np.dot()` ou `ndarray.dot()`. Ex.: dados os vetores $x$ e $y$ pode realizar a operação como `np.dot(x,y)` ou `x.dot(y)`.\n"
   ]
  },
  {
   "cell_type": "code",
   "execution_count": 8,
   "metadata": {},
   "outputs": [
    {
     "name": "stdout",
     "output_type": "stream",
     "text": [
      "u: [ 0.   0.5  1.   1.5  2.   2.5  3.   3.5  4.   4.5]\n",
      "v: [ 5.   5.5  6.   6.5  7.   7.5  8.   8.5  9.   9.5]\n",
      "\n",
      "elementoAelemento\n",
      "[  0.     2.75   6.     9.75  14.    18.75  24.    29.75  36.    42.75]\n",
      "\n",
      "prodInterno\n",
      "183.75\n"
     ]
    }
   ],
   "source": [
    "# EXERCICIO\n",
    "# A função np.arange(inicio,fim,passo)  cria uma lista iniciando em inicio, terminando antes do fim seguindo passo\n",
    "u = np.arange(0, 5, .5)   # np.array([0,0.5,1.0,...,4.5])\n",
    "v = np.arange(5, 10, .5)\n",
    "\n",
    "elementoAelemento = u*v\n",
    "prodInterno = np.dot(u,v)\n",
    "print 'u: {0}'.format(u)\n",
    "print 'v: {0}'.format(v)\n",
    "print '\\nelementoAelemento\\n{0}'.format(elementoAelemento)\n",
    "print '\\nprodInterno\\n{0}'.format(prodInterno)"
   ]
  },
  {
   "cell_type": "code",
   "execution_count": 9,
   "metadata": {},
   "outputs": [
    {
     "name": "stdout",
     "output_type": "stream",
     "text": [
      "Primeiro teste OK\n",
      "Segundo teste OK\n"
     ]
    }
   ],
   "source": [
    "# TESTE do exercício (2b)\n",
    "assert np.all(elementoAelemento == [ 0., 2.75, 6., 9.75, 14., 18.75, 24., 29.75, 36., 42.75]), \"Valores incorretos para elementoAelemento\"\n",
    "print \"Primeiro teste OK\"\n",
    "assert prodInterno==183.75, \"Valor incorreto para prodInterno\"\n",
    "print \"Segundo teste OK\""
   ]
  },
  {
   "cell_type": "markdown",
   "metadata": {},
   "source": [
    "#### ** (2c) Multiplicação de Matriz **\n",
    "\n",
    "#### A multiplicação de matriz é definida por:\n",
    "#### $$ [\\mathbf{X} \\mathbf{Y}]_{i,j} = \\sum_{r=1}^n \\mathbf{X}_{i,r} \\mathbf{Y}_{r,j} $$\n",
    "#### Note que o número de colunas da primeira matriz deve ser o mesmo do número de linhas da segunda matriz, representada por  $ n $\n",
    "\n",
    "#### No Numpy utilizamo `np.matrix()` quando queremos criar uma matriz a partir de listas do Python. Com esse tipo podemos utilizar o operador `*` para multiplicação de matrizes, `np.multiply()` para multiplicação elemento-a-elemento, `np.matrix.transpose()` ou `.T` para calcular a transposta e `np.linalg.inv()` para calcular a inversa de uma matriz quadrada."
   ]
  },
  {
   "cell_type": "code",
   "execution_count": 25,
   "metadata": {},
   "outputs": [
    {
     "name": "stdout",
     "output_type": "stream",
     "text": [
      "A:\n",
      "[[1 2 3 4]\n",
      " [5 6 7 8]]\n",
      "\n",
      "A transposta:\n",
      "[[1 5]\n",
      " [2 6]\n",
      " [3 7]\n",
      " [4 8]]\n",
      "\n",
      "AAt:\n",
      "[[ 30  70]\n",
      " [ 70 174]]\n",
      "\n",
      "AAtInv:\n",
      "[[ 0.54375 -0.21875]\n",
      " [-0.21875  0.09375]]\n",
      "\n",
      "AAtInv * AAt:\n",
      "[[  1.00000000e+00  -8.88178420e-16]\n",
      " [  0.00000000e+00   1.00000000e+00]]\n"
     ]
    }
   ],
   "source": [
    "# EXERCICIO\n",
    "from numpy.linalg import inv  # agora podemos utilizar o comando inv() sem preceder com np.linalg\n",
    "\n",
    "# Criar uma matriz com listas de listas\n",
    "A = np.matrix([[1,2,3,4],[5,6,7,8]])\n",
    "print 'A:\\n{0}'.format(A)\n",
    "\n",
    "# Imprima a matriz transposta\n",
    "print '\\nA transposta:\\n{0}'.format(np.matrix.transpose(A))\n",
    "\n",
    "# Multiplique A por sua Transposta\n",
    "AAt = A*np.matrix.transpose(A)\n",
    "print '\\nAAt:\\n{0}'.format(AAt)\n",
    "\n",
    "# Inverta AAt com o comando inv()\n",
    "AAtInv = inv(AAt)\n",
    "print '\\nAAtInv:\\n{0}'.format(AAtInv)\n",
    "\n",
    "# Mostre que a matriz vezes sua inversa é a identidade\n",
    "# .round(n) arredonda os valores para n casas decimais\n",
    "print '\\nAAtInv * AAt:\\n{0}'.format((AAt*AAtInv))"
   ]
  },
  {
   "cell_type": "code",
   "execution_count": 13,
   "metadata": {},
   "outputs": [
    {
     "name": "stdout",
     "output_type": "stream",
     "text": [
      "Primeiro teste OK\n",
      "Segundo teste OK\n"
     ]
    }
   ],
   "source": [
    "# TESTE do exercício (2c)\n",
    "assert np.all(AAt == np.matrix([[30, 70], [70, 174]])), \"Valores incorretos para AAt\"\n",
    "print \"Primeiro teste OK\"\n",
    "assert np.allclose(AAtInv, np.matrix([[0.54375, -0.21875], [-0.21875, 0.09375]])), \"Valor incorreto para AAtInv\"\n",
    "print \"Segundo teste OK\""
   ]
  },
  {
   "cell_type": "markdown",
   "metadata": {},
   "source": [
    "#### ** (2d) Slices **\n",
    "\n",
    "#### Nos vetores e matrizes do Numpy podemos selecionar sub-conjuntos de valores durante a indexação. Ex.:\n",
    "\n",
    "#### `v[:10]` seleciona os 10 primeiros elementos\n",
    "#### `v[2:]`  seleciona os elementos da terceira posição em diante\n",
    "#### `v[-5:]` retorna os 5 últimos elementos\n",
    "#### `v[:-5]` retorna os elementos do começo até o ultimo-5\n",
    "#### `v[1:3]` retorna os elementos 1 e 2"
   ]
  },
  {
   "cell_type": "code",
   "execution_count": 26,
   "metadata": {},
   "outputs": [
    {
     "name": "stdout",
     "output_type": "stream",
     "text": [
      "atributos:\n",
      "[1 2 3 4]\n",
      "\n",
      "Últimos três:\n",
      "[2 3 4]\n"
     ]
    }
   ],
   "source": [
    "# EXERCICIO\n",
    "atributos = np.array([1, 2, 3, 4])\n",
    "print 'atributos:\\n{0}'.format(atributos)\n",
    "\n",
    "# Crie uma array com os 3 últimos elementos de atributos\n",
    "ultTres = atributos[-3:]\n",
    "\n",
    "print '\\nÚltimos três:\\n{0}'.format(ultTres)"
   ]
  },
  {
   "cell_type": "code",
   "execution_count": 27,
   "metadata": {},
   "outputs": [
    {
     "name": "stdout",
     "output_type": "stream",
     "text": [
      "Teste OK\n"
     ]
    }
   ],
   "source": [
    "# TEST do exercício (2d)\n",
    "assert np.all(ultTres == [2, 3, 4]), \"Valores incorretos para ultTres\"\n",
    "print \"Teste OK\""
   ]
  },
  {
   "cell_type": "markdown",
   "metadata": {},
   "source": [
    "### ** Parte 3: Programação Funcional **"
   ]
  },
  {
   "cell_type": "markdown",
   "metadata": {},
   "source": [
    "#### ** (3a) Funções Anônimas (Lambda) **\n",
    "\n",
    "#### Uma função/expressão lambda é utilizada para definir funções simples com apenas uma instrução. Para isso basta usar a instrução `lambda` seguido da lista de parâmetros de entrada, precedidos por `:` e a expressão a ser executada. Por exempo, `lambda x, y: x + y` é uma função anônima que calcula a soma de dois valores.\n",
    "\n",
    "#### Expressões lambda geram uma função quando interpretadas pelo Python. Elas são úteis quando precisamos aplicar uma função simples em diversos elementos de uma lista.\n",
    "\n",
    "#### Para saber mais sobre Lambdas: [Lambda Functions](http://www.secnetix.de/olli/Python/lambda_functions.hawk), [Lambda Tutorial](https://pythonconquerstheuniverse.wordpress.com/2011/08/29/lambda_tutorial/), and [Python Functions](http://www.bogotobogo.com/python/python_functions_lambda.php).\n",
    "\n",
    "#### No exercício abaixo crie uma função lambda que multiplique um valor por 10, atribua a variável designada."
   ]
  },
  {
   "cell_type": "code",
   "execution_count": 28,
   "metadata": {},
   "outputs": [
    {
     "name": "stdout",
     "output_type": "stream",
     "text": [
      "50\n",
      "\n",
      "<function <lambda> at 0x0000000007639C88>\n"
     ]
    }
   ],
   "source": [
    "# EXERCICIO\n",
    "# Lembre-se que: \"lambda x, y: x + y\" cria uma função que adiciona dois valores\n",
    "mult10 = lambda x: x*10\n",
    "print mult10(5)\n",
    "\n",
    "# Note that the function still shows its name as <lambda>\n",
    "print '\\n', mult10"
   ]
  },
  {
   "cell_type": "code",
   "execution_count": 29,
   "metadata": {},
   "outputs": [
    {
     "name": "stdout",
     "output_type": "stream",
     "text": [
      "Teste OK\n"
     ]
    }
   ],
   "source": [
    "assert mult10(10)==100, \"Função incorreta\"\n",
    "print \"Teste OK\""
   ]
  },
  {
   "cell_type": "markdown",
   "metadata": {},
   "source": [
    "#### As funções lambdas tem restrições em relação a expressão computada. Essa expressão não pode conter `print` ou incremento `+=`, por exemplo.\n",
    "\n",
    "#### Além disso, os parâmetros de entrada podem ser de qualquer tipo, incluindo tuplas e listas."
   ]
  },
  {
   "cell_type": "code",
   "execution_count": 30,
   "metadata": {},
   "outputs": [
    {
     "name": "stdout",
     "output_type": "stream",
     "text": [
      "4.472135955\n"
     ]
    }
   ],
   "source": [
    "p1 = (1,3)\n",
    "p2 = (3,7)\n",
    "\n",
    "euclidiana2D = lambda (x0,y0), (x1,y1): np.sqrt(((x0-x1)**2) + ((y0-y1)**2))  # sqrt é a raíz quadrada\n",
    "print euclidiana2D(p1,p2)"
   ]
  },
  {
   "cell_type": "markdown",
   "metadata": {},
   "source": [
    "#### ** (3b) Lógica Funcional **\n",
    "\n",
    "#### No paradigma funcional trabalhamos com os conceitos de dados imutáveis, ou seja, não existe o conceito de variáveis, uma vez que um valor é designado a um nome, esse valor não pode mudar."
   ]
  },
  {
   "cell_type": "code",
   "execution_count": 31,
   "metadata": {
    "collapsed": true
   },
   "outputs": [],
   "source": [
    "# Lógica não-funcional\n",
    "a = 0\n",
    "def inc():\n",
    "    global a\n",
    "    a = a + 1\n",
    "\n",
    "# Lógica funcional\n",
    "def incFn(a):\n",
    "    return a+1"
   ]
  },
  {
   "cell_type": "markdown",
   "metadata": {},
   "source": [
    "#### ** (3c) Funções de Alta Ordem **\n",
    "\n",
    "#### Desse modo, o uso de laços (for, while) é desencorajado e substituídos pela recursividade e funções de alta ordem. Uma função de alta ordem é uma função que recebe uma ou mais funções como parâmetro e retorna uma função."
   ]
  },
  {
   "cell_type": "code",
   "execution_count": 32,
   "metadata": {
    "collapsed": true
   },
   "outputs": [],
   "source": [
    "# Função para somar 3 valores\n",
    "def Soma3(a,b,c):\n",
    "    return a+b+c\n",
    "\n",
    "# Função que soma apenas dois valores\n",
    "def Soma2(a,b):\n",
    "    return a+b\n",
    "\n",
    "# Soma 3 poderia ser criado a partir de Soma2:\n",
    "Soma3Fn = lambda a,b,c: Soma2(Soma2(a,b),c)"
   ]
  },
  {
   "cell_type": "markdown",
   "metadata": {},
   "source": [
    "#### Esse tipo de função ajuda a criar um código declarativo, em que o próprio código auto-explica o que está sendo feito\n",
    "\n",
    "#### Um exemplo interessante é a construção de uma função que retorna outra função."
   ]
  },
  {
   "cell_type": "code",
   "execution_count": 33,
   "metadata": {},
   "outputs": [
    {
     "name": "stdout",
     "output_type": "stream",
     "text": [
      "1021\n"
     ]
    }
   ],
   "source": [
    "# Cria uma função que calcula a eq. do segundo grau no formato ax^2 + bx + c\n",
    "def Eq2grau(a,b,c):\n",
    "    def f(x):\n",
    "        return a*x**2 + b*x + c\n",
    "    return f\n",
    "\n",
    "f = Eq2grau(10,2,1)\n",
    "print f(10)"
   ]
  },
  {
   "cell_type": "code",
   "execution_count": 35,
   "metadata": {},
   "outputs": [
    {
     "name": "stdout",
     "output_type": "stream",
     "text": [
      "4 6\n"
     ]
    }
   ],
   "source": [
    "# EXERCICIO\n",
    "\n",
    "# Escreva uma função Soma(x) que retorna uma função que recebe um valor y e soma ao x.\n",
    "def Soma(x):\n",
    "    def funcao(y):\n",
    "        return x + y\n",
    "    return funcao\n",
    "\n",
    "Soma2 = lambda a,b: Soma(a)(b)\n",
    "Soma3 = lambda a,b,c: Soma(Soma(a)(b))(c)\n",
    "\n",
    "print Soma2(1,3), Soma3(1,2,3)"
   ]
  },
  {
   "cell_type": "code",
   "execution_count": 36,
   "metadata": {},
   "outputs": [
    {
     "name": "stdout",
     "output_type": "stream",
     "text": [
      "Ok\n"
     ]
    }
   ],
   "source": [
    "assert Soma3(1,2,3)==6, \"Erro na função\"\n",
    "print \"Ok\""
   ]
  },
  {
   "cell_type": "markdown",
   "metadata": {},
   "source": [
    "#### ** (3d) Map, Reduce, Filter **\n",
    "\n",
    "#### Essas três funções são utilizadas para transformação de listas no paradigma funcional. Essas funções recebem como parâmetro uma função `f` e uma lista `l`.\n",
    "\n",
    "#### Map: aplica a função em cada elemento da lista, gerando uma nova lista\n",
    "\n",
    "#### Reduce: aplica a função cumulativamente em pares de elementos da lista, retornando um único valor agregado ao final\n",
    "\n",
    "#### Filter: gera uma nova lista contendo os elementos da lista `l` em que a aplicação de `f` returna `True`\n",
    "\n",
    "#### Para os próximos exercícios vamos utilizar a classe `FuncionalW` para criar uma sintaxe parecida com a que utilizaremos com o Spark.\n"
   ]
  },
  {
   "cell_type": "code",
   "execution_count": 37,
   "metadata": {
    "collapsed": true
   },
   "outputs": [],
   "source": [
    "class FuncionalW(object):\n",
    "    def __init__(self, data):\n",
    "        self.data = data\n",
    "    def map(self, function):\n",
    "        \"\"\"Call `map` on the items in `data` using the provided `function`\"\"\"\n",
    "        return FuncionalW(map(function, self.data))\n",
    "    def reduce(self, function):\n",
    "        \"\"\"Call `reduce` on the items in `data` using the provided `function`\"\"\"\n",
    "        return reduce(function, self.data)\n",
    "    def filter(self, function):\n",
    "        \"\"\"Call `filter` on the items in `data` using the provided `function`\"\"\"\n",
    "        return FuncionalW(filter(function, self.data))\n",
    "    def __eq__(self, other):\n",
    "        return (isinstance(other, self.__class__)\n",
    "            and self.__dict__ == other.__dict__)\n",
    "    def __getattr__(self, name):  return getattr(self.data, name)\n",
    "    def __getitem__(self, k):  return self.data.__getitem__(k)\n",
    "    def __repr__(self):  return 'FuncionalW({0})'.format(repr(self.data))\n",
    "    def __str__(self):  return 'FuncionalW({0})'.format(str(self.data))"
   ]
  },
  {
   "cell_type": "code",
   "execution_count": 38,
   "metadata": {},
   "outputs": [
    {
     "name": "stdout",
     "output_type": "stream",
     "text": [
      "Resultado: FuncionalW([0, 1, 4, 9, 16, 25, 36, 49, 64, 81])\n",
      "Resultado usando Map: FuncionalW([0, 1, 4, 9, 16, 25, 36, 49, 64, 81])\n"
     ]
    }
   ],
   "source": [
    "# Exemplo de Map\n",
    "\n",
    "# Criaremos uma lista\n",
    "lista = FuncionalW(range(10))\n",
    "\n",
    "# Criar uma função a ser aplicada nessa lista\n",
    "f = lambda x: x*x\n",
    "\n",
    "# Programação Imperativa\n",
    "resultado1 = FuncionalW([])\n",
    "for x in lista:\n",
    "    resultado1.append(f(x))\n",
    "print \"Resultado: {}\".format(resultado1)    \n",
    "\n",
    "# Funcional\n",
    "print \"Resultado usando Map: {}\".format(lista.map(f))"
   ]
  },
  {
   "cell_type": "code",
   "execution_count": 39,
   "metadata": {},
   "outputs": [
    {
     "name": "stdout",
     "output_type": "stream",
     "text": [
      "Resultado: 362880\n",
      "Resultado usando Reduce: 362880\n"
     ]
    }
   ],
   "source": [
    "# Exemplo de Reduce\n",
    "\n",
    "# Criaremos uma lista\n",
    "lista = FuncionalW(range(1,10))\n",
    "\n",
    "# Criar uma função a ser aplicada nessa lista\n",
    "f = lambda x,y: x*y\n",
    "\n",
    "# Programação Imperativa\n",
    "produtoria = 1\n",
    "for x in lista:\n",
    "    produtoria = f(produtoria,x)\n",
    "print \"Resultado: {}\".format(produtoria)    \n",
    "\n",
    "# Funcional\n",
    "print \"Resultado usando Reduce: {}\".format(lista.reduce(f))"
   ]
  },
  {
   "cell_type": "code",
   "execution_count": 40,
   "metadata": {},
   "outputs": [
    {
     "name": "stdout",
     "output_type": "stream",
     "text": [
      "mapResult: FuncionalW([0, 5, 10, 15, 20, 25, 30, 35, 40, 45])\n",
      "\n",
      "filterResult: FuncionalW([0, 2, 4, 6, 8])\n",
      "\n",
      "reduceResult: 45\n"
     ]
    }
   ],
   "source": [
    "# EXERCICIO\n",
    "\n",
    "dataset = FuncionalW(range(10))\n",
    "\n",
    "# Multiplique cada elemento por 5\n",
    "mapResult = dataset.map(lambda x: x*5)\n",
    "# Filtre eliminando os elementos ímpares\n",
    "# No Python \"x % 2\" é o resultado do resto da divisão de x por 2\n",
    "filterResult = dataset.filter(lambda x: x % 2 == 0)\n",
    "# Some os elementos\n",
    "reduceResult = dataset.reduce(lambda x,y: x+y)\n",
    "\n",
    "print 'mapResult: {0}'.format(mapResult)\n",
    "print '\\nfilterResult: {0}'.format(filterResult)\n",
    "print '\\nreduceResult: {0}'.format(reduceResult)"
   ]
  },
  {
   "cell_type": "code",
   "execution_count": 41,
   "metadata": {},
   "outputs": [
    {
     "name": "stdout",
     "output_type": "stream",
     "text": [
      "Teste 1 OK\n",
      "Teste 2 OK\n",
      "Teste 3 OK\n"
     ]
    }
   ],
   "source": [
    "assert mapResult == FuncionalW([0, 5, 10, 15, 20, 25, 30, 35, 40, 45]),\"Valor incorreto para mapResult\"\n",
    "print \"Teste 1 OK\"\n",
    "\n",
    "assert filterResult == FuncionalW([0, 2, 4, 6, 8]), \"Valor incorreto para filterResult\"\n",
    "print \"Teste 2 OK\"\n",
    "\n",
    "assert reduceResult == 45, \"Valor incorreto para reduceResult\"\n",
    "print \"Teste 3 OK\""
   ]
  },
  {
   "cell_type": "markdown",
   "metadata": {},
   "source": [
    "#### Para reduzir o tamanho do código e facilitar a leitura, podemos compor as funções em sequência"
   ]
  },
  {
   "cell_type": "code",
   "execution_count": 42,
   "metadata": {},
   "outputs": [
    {
     "name": "stdout",
     "output_type": "stream",
     "text": [
      "100\n"
     ]
    }
   ],
   "source": [
    "dataset = FuncionalW(range(10))\n",
    "\n",
    "Soma = (dataset\n",
    "            .map(lambda x: x*5)\n",
    "            .filter(lambda x: x%2==0)\n",
    "            .reduce(lambda x,y: x+y)\n",
    "            )\n",
    "print Soma"
   ]
  },
  {
   "cell_type": "code",
   "execution_count": 45,
   "metadata": {},
   "outputs": [
    {
     "name": "stdout",
     "output_type": "stream",
     "text": [
      "Existem 2 ocorrências de 'palavras'\n"
     ]
    }
   ],
   "source": [
    "# EXERCICIO\n",
    "\n",
    "# split() divide a string em palavras\n",
    "Texto = FuncionalW(\"Esse texto tem varias palavras cada linha tem palavras escritas Esse texto esta escrito\".split())\n",
    "\n",
    "# Vamos fazer uma contagem da palavra 'palavras' no texto\n",
    "\n",
    "# Crie uma função lambda que recebe duas entradas e retorna se são iguais ou não\n",
    "Igual = lambda x,y: x==y\n",
    "\n",
    "# Crie uma função lambda que utiliza a função Igual para detectar se a entrada é igual a palavra 'palavras'\n",
    "DetectaPalavra = lambda x: Igual(x,\"palavras\")\n",
    "\n",
    "# 1) Filtre as palavras iguais a 'palavras'\n",
    "# 2) Mapeie todos os elementos para o valor 1\n",
    "# 3) Reduza para a somatória\n",
    "contagem = (Texto\n",
    "            .filter(lambda x: DetectaPalavra(x))\n",
    "            .map(lambda x: 1)\n",
    "            .reduce(lambda x,y: x+y)\n",
    "            )\n",
    "\n",
    "print \"Existem {} ocorrências de 'palavras'\".format(contagem)"
   ]
  },
  {
   "cell_type": "code",
   "execution_count": null,
   "metadata": {
    "collapsed": true
   },
   "outputs": [],
   "source": []
  },
  {
   "cell_type": "code",
   "execution_count": null,
   "metadata": {
    "collapsed": true
   },
   "outputs": [],
   "source": []
  }
 ],
 "metadata": {
  "kernelspec": {
   "display_name": "Python 2",
   "language": "python",
   "name": "python2"
  },
  "language_info": {
   "codemirror_mode": {
    "name": "ipython",
    "version": 2
   },
   "file_extension": ".py",
   "mimetype": "text/x-python",
   "name": "python",
   "nbconvert_exporter": "python",
   "pygments_lexer": "ipython2",
   "version": "2.7.14"
  }
 },
 "nbformat": 4,
 "nbformat_minor": 1
}
