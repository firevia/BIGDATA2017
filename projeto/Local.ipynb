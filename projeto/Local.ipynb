{
 "cells": [
  {
   "cell_type": "code",
   "execution_count": 11,
   "metadata": {
    "collapsed": true
   },
   "outputs": [],
   "source": [
    "import os\n",
    "import numpy as np\n",
    "\n",
    "from pyspark import SparkContext\n",
    "sc = SparkContext.getOrCreate()\n",
    "\n",
    "from test_helper import Test\n",
    "import os.path\n",
    "\n",
    "fileName = os.path.join('D:/', 'DM_LOCAL_OFERTA.CSV')\n",
    "\n",
    "numPartitions = 100\n",
    "LocalRawData = sc.textFile(fileName, numPartitions, 8)"
   ]
  },
  {
   "cell_type": "code",
   "execution_count": 12,
   "metadata": {},
   "outputs": [
    {
     "name": "stdout",
     "output_type": "stream",
     "text": [
      "208114\n",
      "[u'CO_LOCAL_OFERTA|NO_LOCAL_OFERTA|CO_IES|CO_UF_LOCAL_OFERTA|SGL_UF_LOCAL_OFERTA|CO_MUNICIPIO_LOCAL_OFERTA|NO_MUNICIPIO_LOCAL_OFERTA|IN_SEDE|CO_CURSO_POLO|CO_CURSO|IN_LOCAL_OFERTA_NEAD|IN_LOCAL_OFERTA_UAB|IN_LOCAL_OFERTA_REITORIA|IN_LOCAL_OFERTA_POLO|IN_LOCAL_OFERTA_UNID_ACADEMICA|DT_INICIO_FUNCIONAMENTO']\n",
      "CO_LOCAL_OFERTA|NO_LOCAL_OFERTA|CO_IES|CO_UF_LOCAL_OFERTA|SGL_UF_LOCAL_OFERTA|CO_MUNICIPIO_LOCAL_OFERTA|NO_MUNICIPIO_LOCAL_OFERTA|IN_SEDE|CO_CURSO_POLO|CO_CURSO|IN_LOCAL_OFERTA_NEAD|IN_LOCAL_OFERTA_UAB|IN_LOCAL_OFERTA_REITORIA|IN_LOCAL_OFERTA_POLO|IN_LOCAL_OFERTA_UNID_ACADEMICA|DT_INICIO_FUNCIONAMENTO\n"
     ]
    }
   ],
   "source": [
    "# pega amostra e mostra tela\n",
    "numPoints = LocalRawData.count()\n",
    "print numPoints\n",
    "samplePoints = LocalRawData.take(1)\n",
    "print samplePoints\n",
    "\n",
    "# começa limpeza dos dados\n",
    "from pyspark.mllib.regression import LabeledPoint\n",
    "import numpy as np\n",
    "\n",
    "\n",
    "header = LocalRawData.take(1)[0] # o cabeçalho é a primeira linha do arquivo\n",
    "print header"
   ]
  },
  {
   "cell_type": "code",
   "execution_count": 18,
   "metadata": {},
   "outputs": [
    {
     "name": "stdout",
     "output_type": "stream",
     "text": [
      "('CO_LOCAL_OFERTA', 'NO_LOCAL_OFERTA', 'CO_IES', 'CO_UF_LOCAL_OFERTA', 'SGL_UF_LOCAL_OFERTA', 'CO_MUNICIPIO_LOCAL_OFERTA', 'NO_MUNICIPIO_LOCAL_OFERTA', 'IN_SEDE', 'CO_CURSO_POLO', 'CO_CURSO', 'IN_LOCAL_OFERTA_NEAD', 'IN_LOCAL_OFERTA_UAB', 'IN_LOCAL_OFERTA_REITORIA', 'IN_LOCAL_OFERTA_POLO', 'IN_LOCAL_OFERTA_UNID_ACADEMICA', 'DT_INICIO_FUNCIONAMENTO')\n"
     ]
    }
   ],
   "source": [
    "import re\n",
    "import datetime\n",
    "from collections import namedtuple\n",
    "\n",
    "Local = namedtuple('Local',headeritems) # gera a namedtuple Curso com os campos de header\n",
    "print Local._fields"
   ]
  },
  {
   "cell_type": "code",
   "execution_count": 14,
   "metadata": {},
   "outputs": [],
   "source": [
    "def ParseLocal(rec):\n",
    "    # utilizando re.split() vamos capturar nossos valores\n",
    "    CO_LOCAL_OFERTA, NO_LOCAL_OFERTA, CO_IES, CO_UF_LOCAL_OFERTA, SGL_UF_LOCAL_OFERTA, CO_MUNICIPIO_LOCAL_OFERTA, NO_MUNICIPIO_LOCAL_OFERTA, IN_SEDE, CO_CURSO_POLO, CO_CURSO, IN_LOCAL_OFERTA_NEAD, IN_LOCAL_OFERTA_UAB, IN_LOCAL_OFERTA_REITORIA, IN_LOCAL_OFERTA_POLO, IN_LOCAL_OFERTA_UNID_ACADEMICA, DT_INICIO_FUNCIONAMENTO = tuple(rec.split('|'))\n",
    "    \n",
    "\n",
    "    return Local(CO_LOCAL_OFERTA, NO_LOCAL_OFERTA, CO_IES, CO_UF_LOCAL_OFERTA, SGL_UF_LOCAL_OFERTA, CO_MUNICIPIO_LOCAL_OFERTA, NO_MUNICIPIO_LOCAL_OFERTA, IN_SEDE, CO_CURSO_POLO, CO_CURSO, IN_LOCAL_OFERTA_NEAD, IN_LOCAL_OFERTA_UAB, IN_LOCAL_OFERTA_REITORIA, IN_LOCAL_OFERTA_POLO, IN_LOCAL_OFERTA_UNID_ACADEMICA, DT_INICIO_FUNCIONAMENTO)\n"
   ]
  },
  {
   "cell_type": "code",
   "execution_count": 15,
   "metadata": {},
   "outputs": [],
   "source": [
    "# Aplique a função ParseCurso para cada objeto da base\n",
    "LocalHeadlessRDD = (LocalRawData\n",
    "                    .filter(lambda x: x != header)\n",
    "                    .map(ParseLocal)\n",
    "                    )\n",
    "\n",
    "\n",
    "firstClean = LocalHeadlessRDD.take(1)[0]"
   ]
  },
  {
   "cell_type": "code",
   "execution_count": 16,
   "metadata": {},
   "outputs": [
    {
     "name": "stdout",
     "output_type": "stream",
     "text": [
      "Local(CO_LOCAL_OFERTA=u'105340', NO_LOCAL_OFERTA=u'Campus Universit\\ufffdrio de Cuiab\\ufffd', CO_IES=u'1', CO_UF_LOCAL_OFERTA=u'51', SGL_UF_LOCAL_OFERTA=u'MT', CO_MUNICIPIO_LOCAL_OFERTA=u'5103403', NO_MUNICIPIO_LOCAL_OFERTA=u'Cuiab\\ufffd', IN_SEDE=u'1', CO_CURSO_POLO=u'', CO_CURSO=u'1', IN_LOCAL_OFERTA_NEAD=u'1', IN_LOCAL_OFERTA_UAB=u'1', IN_LOCAL_OFERTA_REITORIA=u'1', IN_LOCAL_OFERTA_POLO=u'1', IN_LOCAL_OFERTA_UNID_ACADEMICA=u'1', DT_INICIO_FUNCIONAMENTO=u'05/09/1952')\n",
      "208113\n"
     ]
    }
   ],
   "source": [
    "totalRecs = LocalHeadlessRDD.count()\n",
    "print firstClean\n",
    "print totalRecs"
   ]
  },
  {
   "cell_type": "code",
   "execution_count": 17,
   "metadata": {},
   "outputs": [
    {
     "name": "stdout",
     "output_type": "stream",
     "text": [
      "\n",
      "Os 20 municipios com mais oferta de curso:\n",
      "[(u'Unidade SEDE', 4328), (u'Exclus\\ufffdo Proc. 200809998 Duplicado', 1344), (u'POLO NA SEDE', 533), (u'SEDE', 407), (u'S\\ufffdO PAULO', 340), (u'MARING\\ufffd', 312), (u'UNIDADE SEDE', 287), (u'CAMPO GRANDE', 262), (u'SANTA MARIA', 258), (u'Cidade Universit\\ufffdria', 253), (u'Campus Principal', 236), (u'BEL\\ufffdM', 223), (u'NITER\\ufffdI', 215), (u'SALGUEIRO', 214), (u'LAURO DE FREITAS', 210), (u'RIO GRANDE', 205), (u'DOURADOS', 203), (u'RIO DE JANEIRO', 202), (u'CURITIBA', 198), (u'BOA VISTA', 196)]\n"
     ]
    }
   ],
   "source": [
    "# Os 20 locais com mais ofertas\n",
    "\n",
    "LocalOfertaCountRDD = (LocalHeadlessRDD\n",
    "               .map(lambda rec: (rec.NO_LOCAL_OFERTA,1))\n",
    "               .reduceByKey(lambda x,y: x+y)\n",
    "               )\n",
    "LocalOfertaCount = sorted(LocalOfertaCountRDD.collect(), key=lambda x: -x[1])\n",
    "print '\\nOs 20 municipios com mais oferta de curso:\\n{0}'.format(LocalOfertaCount[:20])"
   ]
  },
  {
   "cell_type": "code",
   "execution_count": null,
   "metadata": {
    "collapsed": true
   },
   "outputs": [],
   "source": []
  }
 ],
 "metadata": {
  "kernelspec": {
   "display_name": "Python 2",
   "language": "python",
   "name": "python2"
  },
  "language_info": {
   "codemirror_mode": {
    "name": "ipython",
    "version": 2
   },
   "file_extension": ".py",
   "mimetype": "text/x-python",
   "name": "python",
   "nbconvert_exporter": "python",
   "pygments_lexer": "ipython2",
   "version": "2.7.14"
  }
 },
 "nbformat": 4,
 "nbformat_minor": 2
}
