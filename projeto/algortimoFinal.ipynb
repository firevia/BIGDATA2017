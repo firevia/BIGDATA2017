{
 "cells": [
  {
   "cell_type": "code",
   "execution_count": 34,
   "metadata": {
    "collapsed": true
   },
   "outputs": [],
   "source": [
    "import os\n",
    "import numpy as np\n",
    "\n",
    "from pyspark import SparkContext\n",
    "sc = SparkContext.getOrCreate()\n",
    "\n",
    "from test_helper import Test\n",
    "import os.path\n",
    "\n",
    "fileName = os.path.join('D:/', 'IGCFINAL.csv')\n",
    "\n",
    "numPartitions = 4\n",
    "IGCraw = sc.textFile(fileName, numPartitions, 8)"
   ]
  },
  {
   "cell_type": "code",
   "execution_count": 35,
   "metadata": {
    "scrolled": true
   },
   "outputs": [
    {
     "name": "stdout",
     "output_type": "stream",
     "text": [
      "2119\n"
     ]
    }
   ],
   "source": [
    "numPoints = IGCraw.count()\n",
    "print numPoints"
   ]
  },
  {
   "cell_type": "code",
   "execution_count": 36,
   "metadata": {
    "scrolled": true
   },
   "outputs": [
    {
     "name": "stdout",
     "output_type": "stream",
     "text": [
      "[u'5.0,8.0,84.0,0.8274,2.7727,0.1201,4.2806,0.0525,4.6019,2240.0,1284.0,642.0,2240.0,1.0000,35259.0,3.049821', u'5.0,8.0,63.0,0.5425,3.3987,0.2337,4.5397,0.2238,4.7079,3034.0,2497.0,480.0,2874.0,0.9473,44274.0,3.958344']\n"
     ]
    }
   ],
   "source": [
    "samplePoints = IGCraw.take(2)\n",
    "print samplePoints"
   ]
  },
  {
   "cell_type": "code",
   "execution_count": 37,
   "metadata": {
    "collapsed": true
   },
   "outputs": [],
   "source": [
    "from pyspark.mllib.regression import LabeledPoint\n",
    "from pyspark.mllib.feature import StandardScaler"
   ]
  },
  {
   "cell_type": "code",
   "execution_count": 38,
   "metadata": {},
   "outputs": [
    {
     "name": "stdout",
     "output_type": "stream",
     "text": [
      "[[u'5.0', u'8.0', u'84.0', u'0.8274', u'2.7727', u'0.1201', u'4.2806', u'0.0525', u'4.6019', u'2240.0', u'1284.0', u'642.0', u'2240.0', u'1.0000', u'35259.0', u'3.049821'], [u'5.0', u'8.0', u'63.0', u'0.5425', u'3.3987', u'0.2337', u'4.5397', u'0.2238', u'4.7079', u'3034.0', u'2497.0', u'480.0', u'2874.0', u'0.9473', u'44274.0', u'3.958344']]\n"
     ]
    }
   ],
   "source": [
    "IGCrdd = (IGCraw\n",
    "        .map(lambda x: x.split(','),lambda y: float(y))\n",
    "        )\n",
    "print IGCrdd.take(2)"
   ]
  },
  {
   "cell_type": "code",
   "execution_count": 39,
   "metadata": {},
   "outputs": [
    {
     "data": {
      "text/plain": [
       "[DenseVector([7.519, 3.3099, 3.9732, 9.6856, 5.3817, 2.1911, 2.8244, 1.48, 3.4977, 5.4795, 4.9566, 4.5409, 5.6773, 7.5224]),\n",
       " DenseVector([7.519, 3.3099, 2.9799, 6.3505, 6.5968, 4.2636, 2.9954, 6.309, 3.5782, 7.4218, 9.6391, 3.395, 7.2842, 7.126])]"
      ]
     },
     "execution_count": 39,
     "metadata": {},
     "output_type": "execute_result"
    }
   ],
   "source": [
    "features = IGCrdd.map(lambda row: row[0:14])\n",
    "\n",
    "standardizer = StandardScaler()\n",
    "model = standardizer.fit(features)\n",
    "features_transform = model.transform(features)\n",
    "features_transform.take(2)"
   ]
  },
  {
   "cell_type": "code",
   "execution_count": 40,
   "metadata": {},
   "outputs": [
    {
     "name": "stdout",
     "output_type": "stream",
     "text": [
      "[u'3.049821', u'3.958344', u'3.108116']\n"
     ]
    }
   ],
   "source": [
    "lab = IGCrdd.map(lambda row: row[15])\n",
    "print lab.take(3)"
   ]
  },
  {
   "cell_type": "code",
   "execution_count": 41,
   "metadata": {},
   "outputs": [
    {
     "name": "stdout",
     "output_type": "stream",
     "text": [
      "[LabeledPoint(3.049821, [7.51897954649,3.30990452554,3.97318036511,9.68559447268,5.38172174332,2.1911019644,2.8244270402,1.47999885681,3.49766650099,5.47950519146,4.95661141064,4.5408550471,5.67731579915,7.52239710004]), LabeledPoint(3.958344, [7.51897954649,3.30990452554,2.97988527383,6.35053783107,6.59676765933,4.26361806063,2.99538649591,6.30902369819,3.57823162607,7.42179408522,9.63914228379,3.39503181091,7.28419893159,7.12596677287])]\n"
     ]
    }
   ],
   "source": [
    "transformedData = lab.zip(features_transform)\n",
    "transformedData = transformedData.map(lambda row: LabeledPoint(row[0],[row[1]]))\n",
    "print transformedData.take(2)"
   ]
  },
  {
   "cell_type": "code",
   "execution_count": 42,
   "metadata": {
    "collapsed": true
   },
   "outputs": [],
   "source": [
    "trainingData, testingData = transformedData.randomSplit([0.8,0.2],seed=1234)\n",
    "\n",
    "def getMSE(model):\n",
    "    valuesAndPreds = testingData.map(lambda p: (p.label, model.predict(p.features[0])))\n",
    "    MSE = valuesAndPreds.map(lambda (v, p): (v - p)**2).reduce(lambda x, y: x + y) / valuesAndPreds.count()\n",
    "    return MSE"
   ]
  },
  {
   "cell_type": "code",
   "execution_count": 43,
   "metadata": {},
   "outputs": [
    {
     "name": "stdout",
     "output_type": "stream",
     "text": [
      "Regressão linear: \n",
      "Mean Squared Error = 1.5152675667e+21\n"
     ]
    }
   ],
   "source": [
    "from pyspark.mllib.regression import LinearRegressionWithSGD\n",
    "model = LinearRegressionWithSGD.train(trainingData, iterations=10, step=0.1)\n",
    "print \"Regressão linear: \"\n",
    "print(\"Mean Squared Error = \" + str(getMSE(model)))"
   ]
  },
  {
   "cell_type": "code",
   "execution_count": 44,
   "metadata": {
    "collapsed": true
   },
   "outputs": [],
   "source": [
    "from pyspark.mllib.tree import DecisionTree\n",
    "from pyspark.mllib.linalg import SparseVector\n",
    "\n",
    "model = DecisionTree.trainRegressor(trainingData, {})"
   ]
  },
  {
   "cell_type": "code",
   "execution_count": 45,
   "metadata": {},
   "outputs": [
    {
     "name": "stdout",
     "output_type": "stream",
     "text": [
      "DecisionTreeModel regressor of depth 5 with 63 nodes\n"
     ]
    }
   ],
   "source": [
    "print(model)"
   ]
  },
  {
   "cell_type": "code",
   "execution_count": 46,
   "metadata": {},
   "outputs": [
    {
     "name": "stdout",
     "output_type": "stream",
     "text": [
      "[LabeledPoint(2.688041, [7.51897954649,4.55111872261,1.18249415628,10.6829508288,4.89803253842,1.06544841566,2.87622293859,0.817523178049,3.42021757414,1.15705623016,0.80294016621,1.55605624667,1.17601541554,7.37947155514]), LabeledPoint(2.605417, [7.51897954649,4.55111872261,0.945995325025,11.5948529432,5.03098884073,0.173317807343,2.63928144672,0.0,0.0,0.567520180544,0.154411570425,0.841684969789,0.588007707769,7.52239710004]), LabeledPoint(2.58, [4.5113877279,3.72364259123,0.0472997662513,11.7060605181,5.00769722573,0.0,0.0,0.0,0.0,0.146772460486,0.142830702643,0.134386675849,0.149536442924,7.39677306847]), LabeledPoint(2.639234, [3.0075918186,3.72364259123,0.520297428764,11.3548787026,5.0410818739,0.547319391608,2.63928144672,0.0,0.0,0.337576659117,0.196874752292,0.480962839879,0.34469417352,7.41332234209]), LabeledPoint(1.944021, [4.5113877279,3.72364259123,0.236498831256,11.7060605181,3.77324163055,0.0,0.0,0.0,0.0,0.173680744908,0.0270220248244,0.134386675849,0.177416118723,7.41633130093])]\n"
     ]
    }
   ],
   "source": [
    "print testingData.take(5)"
   ]
  },
  {
   "cell_type": "code",
   "execution_count": 47,
   "metadata": {},
   "outputs": [
    {
     "name": "stdout",
     "output_type": "stream",
     "text": [
      "Testando modelo arvore de decisao: \n",
      "\n",
      "Valor IGC previso para a entrada [3.46378349553,3.59453684623,3.42517631914,0.141068620973,0.00973130216592,11.6300309624,2.07444801973,0.0,0.0,0.0,0.0]:\n",
      "\n",
      "2.58489669128\n",
      "\n",
      "Valor IGC real: 2.688041\n"
     ]
    }
   ],
   "source": [
    "print \"Testando modelo arvore de decisao: \\n\"\n",
    "print \"Valor IGC previso para a entrada [3.46378349553,3.59453684623,3.42517631914,0.141068620973,0.00973130216592,11.6300309624,2.07444801973,0.0,0.0,0.0,0.0]:\\n\"\n",
    "print model.predict([7.51897954649,4.55111872261,1.18249415628,10.6829508288,4.89803253842,1.06544841566,2.87622293859,0.817523178049,3.42021757414,1.15705623016,0.80294016621,1.55605624667,1.17601541554,7.37947155514])\n",
    "print \"\\nValor IGC real: 2.688041\""
   ]
  },
  {
   "cell_type": "code",
   "execution_count": 51,
   "metadata": {},
   "outputs": [
    {
     "name": "stdout",
     "output_type": "stream",
     "text": [
      "Testando modelo arvore de decisao: \n",
      "\n",
      "Valor IGC previso para a entrada [3.46378349553,3.59453684623,3.42517631914,0.141068620973,0.00973130216592,11.6300309624,2.07444801973,0.0,0.0,0.0,0.0]:\n",
      "\n",
      "2.58489669128\n",
      "\n",
      "Valor IGC real: 2.605417\n"
     ]
    }
   ],
   "source": [
    "print \"Testando modelo arvore de decisao: \\n\"\n",
    "print \"Valor IGC previso para a entrada [3.46378349553,3.59453684623,3.42517631914,0.141068620973,0.00973130216592,11.6300309624,2.07444801973,0.0,0.0,0.0,0.0]:\\n\"\n",
    "print model.predict([7.51897954649,4.55111872261,0.945995325025,11.5948529432,5.03098884073,0.173317807343,2.63928144672,0.0,0.0,0.567520180544,0.154411570425,0.841684969789,0.588007707769,7.52239710004])\n",
    "print \"\\nValor IGC real: 2.605417\""
   ]
  },
  {
   "cell_type": "code",
   "execution_count": 52,
   "metadata": {},
   "outputs": [
    {
     "name": "stdout",
     "output_type": "stream",
     "text": [
      "Testando modelo arvore de decisao: \n",
      "\n",
      "Valor IGC previso para a entrada [3.46378349553,3.59453684623,3.42517631914,0.141068620973,0.00973130216592,11.6300309624,2.07444801973,0.0,0.0,0.0,0.0]:\n",
      "\n",
      "2.58489669128\n",
      "\n",
      "Valor IGC real: 2.639234\n"
     ]
    }
   ],
   "source": [
    "print \"Testando modelo arvore de decisao: \\n\"\n",
    "print \"Valor IGC previso para a entrada [3.46378349553,3.59453684623,3.42517631914,0.141068620973,0.00973130216592,11.6300309624,2.07444801973,0.0,0.0,0.0,0.0]:\\n\"\n",
    "print model.predict([3.0075918186,3.72364259123,0.520297428764,11.3548787026,5.0410818739,0.547319391608,2.63928144672,0.0,0.0,0.337576659117,0.196874752292,0.480962839879,0.34469417352,7.41332234209])\n",
    "print \"\\nValor IGC real: 2.639234\""
   ]
  },
  {
   "cell_type": "code",
   "execution_count": 55,
   "metadata": {},
   "outputs": [
    {
     "name": "stdout",
     "output_type": "stream",
     "text": [
      "\n",
      "Dicionario\n",
      "\n",
      "0 Tipo Org. Acadêmica\n",
      "1 Categ. Administrativa\n",
      "2 Nr. de Cursos com CPC no Triênio\n",
      "3 alfa (Proporção de Graduandos)\n",
      "4 Conceito médio da Graduação\n",
      "5 beta (Proporção de Mestrandos - Equivalente)\n",
      "6 Conceito Médio do Mestrado\n",
      "7 gama (Proporção de Doutorandos - Equivalente)\n",
      "8 Conceito Médio do doutorado\n",
      "9 Total de Docentes\n",
      "10 Total de Docentes com Doutorado\n",
      "11 Total de Docentes com Mesttrado\n",
      "12 Total de Docentes Ativos\n",
      "13 Razao de Docentes Ativos\n",
      "14 Total de Alunos da IES\n",
      "15 IGC (Contínuo) Objetivo\n"
     ]
    }
   ],
   "source": [
    "print \"\\nDicionario\\n\"\n",
    "print \"0 Tipo Org. Acadêmica\"\n",
    "print \"1 Categ. Administrativa\"\n",
    "print \"2 Nr. de Cursos com CPC no Triênio\"\n",
    "print \"3 alfa (Proporção de Graduandos)\"\n",
    "print \"4 Conceito médio da Graduação\"\n",
    "print \"5 beta (Proporção de Mestrandos - Equivalente)\"\n",
    "print \"6 Conceito Médio do Mestrado\"\n",
    "print \"7 gama (Proporção de Doutorandos - Equivalente)\"\n",
    "print \"8 Conceito Médio do doutorado\"\n",
    "print \"9 Total de Docentes\"\n",
    "print \"10 Total de Docentes com Doutorado\"\n",
    "print \"11 Total de Docentes com Mesttrado\"\n",
    "print \"12 Total de Docentes Ativos\"\n",
    "print \"13 Razao de Docentes Ativos\"\n",
    "print \"14 Total de Alunos da IES\"\n",
    "print \"15 IGC (Contínuo) Objetivo\""
   ]
  },
  {
   "cell_type": "code",
   "execution_count": 57,
   "metadata": {},
   "outputs": [
    {
     "name": "stdout",
     "output_type": "stream",
     "text": [
      "Regras da arvore de decisao\n",
      "DecisionTreeModel regressor of depth 5 with 63 nodes\n",
      "  If (feature 4 <= 4.8821166014999005)\n",
      "   If (feature 4 <= 3.847386604974796)\n",
      "    If (feature 4 <= 3.216183838383229)\n",
      "     If (feature 4 <= 2.8039222528234236)\n",
      "      If (feature 3 <= 8.728038722297562)\n",
      "       Predict: 2.860333\n",
      "      Else (feature 3 > 8.728038722297562)\n",
      "       Predict: 1.22206225\n",
      "     Else (feature 4 > 2.8039222528234236)\n",
      "      If (feature 11 <= 0.049510880575815076)\n",
      "       Predict: 1.531737789473684\n",
      "      Else (feature 11 > 0.049510880575815076)\n",
      "       Predict: 1.5765907714285716\n",
      "    Else (feature 4 > 3.216183838383229)\n",
      "     If (feature 4 <= 3.502476606133094)\n",
      "      If (feature 13 <= 7.3591610829713625)\n",
      "       Predict: 1.7522984736842107\n",
      "      Else (feature 13 > 7.3591610829713625)\n",
      "       Predict: 1.7285519411764714\n",
      "     Else (feature 4 > 3.502476606133094)\n",
      "      If (feature 4 <= 3.689585913326904)\n",
      "       Predict: 1.856317037735849\n",
      "      Else (feature 4 > 3.689585913326904)\n",
      "       Predict: 1.9387172452830188\n",
      "   Else (feature 4 > 3.847386604974796)\n",
      "    If (feature 4 <= 4.4013388484718226)\n",
      "     If (feature 4 <= 4.09544230476078)\n",
      "      If (feature 4 <= 4.001111263997096)\n",
      "       Predict: 2.022274037037037\n",
      "      Else (feature 4 > 4.001111263997096)\n",
      "       Predict: 2.0859689056603767\n",
      "     Else (feature 4 > 4.09544230476078)\n",
      "      If (feature 4 <= 4.293032838706112)\n",
      "       Predict: 2.1658395754716984\n",
      "      Else (feature 4 > 4.293032838706112)\n",
      "       Predict: 2.249433037037037\n",
      "    Else (feature 4 > 4.4013388484718226)\n",
      "     If (feature 4 <= 4.633478611338832)\n",
      "      If (feature 4 <= 4.539923957741927)\n",
      "       Predict: 2.307428811320755\n",
      "      Else (feature 4 > 4.539923957741927)\n",
      "       Predict: 2.3703858518518524\n",
      "     Else (feature 4 > 4.633478611338832)\n",
      "      If (feature 3 <= 11.25420658210418)\n",
      "       Predict: 2.6092315\n",
      "      Else (feature 3 > 11.25420658210418)\n",
      "       Predict: 2.4549119585492227\n",
      "  Else (feature 4 > 4.8821166014999005)\n",
      "   If (feature 4 <= 5.8980192092306085)\n",
      "    If (feature 4 <= 5.352219030984764)\n",
      "     If (feature 3 <= 10.663050525939981)\n",
      "      If (feature 3 <= 8.728038722297562)\n",
      "       Predict: 3.150226\n",
      "      Else (feature 3 > 8.728038722297562)\n",
      "       Predict: 2.8838485882352938\n",
      "     Else (feature 3 > 10.663050525939981)\n",
      "      If (feature 4 <= 5.1216320424513135)\n",
      "       Predict: 2.584896691275168\n",
      "      Else (feature 4 > 5.1216320424513135)\n",
      "       Predict: 2.7060076533333333\n",
      "    Else (feature 4 > 5.352219030984764)\n",
      "     If (feature 7 <= 2.2636934895645324)\n",
      "      If (feature 4 <= 5.629583346316667)\n",
      "       Predict: 2.8497711437908495\n",
      "      Else (feature 4 > 5.629583346316667)\n",
      "       Predict: 2.9784801368421046\n",
      "     Else (feature 7 > 2.2636934895645324)\n",
      "      If (feature 11 <= 0.25462738581847755)\n",
      "       Predict: 4.1410335\n",
      "      Else (feature 11 > 0.25462738581847755)\n",
      "       Predict: 3.462430470588236\n",
      "   Else (feature 4 > 5.8980192092306085)\n",
      "    If (feature 3 <= 8.728038722297562)\n",
      "     If (feature 9 <= 0.467225665879054)\n",
      "      If (feature 11 <= 0.0070729829394021535)\n",
      "       Predict: 4.8200195\n",
      "      Else (feature 11 > 0.0070729829394021535)\n",
      "       Predict: 4.2663644000000005\n",
      "     Else (feature 9 > 0.467225665879054)\n",
      "      If (feature 6 <= 2.9509146035361855)\n",
      "       Predict: 3.739599125\n",
      "      Else (feature 6 > 2.9509146035361855)\n",
      "       Predict: 3.9714933333333335\n",
      "    Else (feature 3 > 8.728038722297562)\n",
      "     If (feature 4 <= 6.62316482300247)\n",
      "      If (feature 4 <= 6.31416273062431)\n",
      "       Predict: 3.1555481340206186\n",
      "      Else (feature 4 > 6.31416273062431)\n",
      "       Predict: 3.3385799111111116\n",
      "     Else (feature 4 > 6.62316482300247)\n",
      "      If (feature 10 <= 0.03088231408501466)\n",
      "       Predict: 3.754801823529412\n",
      "      Else (feature 10 > 0.03088231408501466)\n",
      "       Predict: 3.560987863636363\n",
      "\n"
     ]
    }
   ],
   "source": [
    "print \"Regras da arvore de decisao\"\n",
    "print(model.toDebugString())"
   ]
  },
  {
   "cell_type": "code",
   "execution_count": null,
   "metadata": {
    "collapsed": true
   },
   "outputs": [],
   "source": []
  }
 ],
 "metadata": {
  "kernelspec": {
   "display_name": "Python 2",
   "language": "python",
   "name": "python2"
  },
  "language_info": {
   "codemirror_mode": {
    "name": "ipython",
    "version": 2
   },
   "file_extension": ".py",
   "mimetype": "text/x-python",
   "name": "python",
   "nbconvert_exporter": "python",
   "pygments_lexer": "ipython2",
   "version": "2.7.14"
  }
 },
 "nbformat": 4,
 "nbformat_minor": 2
}
