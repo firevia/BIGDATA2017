{
 "cells": [
  {
   "cell_type": "code",
   "execution_count": 1,
   "metadata": {
    "collapsed": true
   },
   "outputs": [],
   "source": [
    "import os\n",
    "import numpy as np\n",
    "\n",
    "from pyspark import SparkContext\n",
    "sc = SparkContext.getOrCreate()\n",
    "\n",
    "from test_helper import Test\n",
    "import os.path\n",
    "\n",
    "fileName = os.path.join('D:/', 'DM_DOCENTE.CSV')\n",
    "\n",
    "numPartitions = 100\n",
    "DocenteRawData = sc.textFile(fileName, numPartitions, 8)"
   ]
  },
  {
   "cell_type": "code",
   "execution_count": 2,
   "metadata": {},
   "outputs": [
    {
     "name": "stdout",
     "output_type": "stream",
     "text": [
      "397612\n",
      "[u'CO_IES|NO_IES|CO_CATEGORIA_ADMINISTRATIVA|DS_CATEGORIA_ADMINISTRATIVA|CO_ORGANIZACAO_ACADEMICA|DS_ORGANIZACAO_ACADEMICA|IN_CAPITAL_IES|CO_DOCENTE_IES|CO_DOCENTE|CO_SITUACAO_DOCENTE|DS_SITUACAO_DOCENTE|CO_ESCOLARIDADE_DOCENTE|DS_ESCOLARIDADE_DOCENTE|CO_REGIME_TRABALHO|DS_REGIME_TRABALHO|IN_SEXO_DOCENTE|DS_SEXO_DOCENTE|NU_ANO_DOCENTE_NASC|NU_MES_DOCENTE_NASC|NU_DIA_DOCENTE_NASC|NU_IDADE_DOCENTE|CO_COR_RACA_DOCENTE|DS_COR_RACA_DOCENTE|CO_PAIS_DOCENTE|CO_NACIONALIDADE_DOCENTE|DS_NACIONALIDADE_DOCENTE|CO_UF_NASCIMENTO|CO_MUNICIPIO_NASCIMENTO|IN_DOCENTE_DEFICIENCIA|IN_DEF_CEGUEIRA|IN_DEF_BAIXA_VISAO|IN_DEF_SURDEZ|IN_DEF_AUDITIVA|IN_DEF_FISICA|IN_DEF_SURDOCEGUEIRA|IN_DEF_MULTIPLA|IN_DEF_INTELECTUAL|IN_ATU_EAD|IN_ATU_EXTENSAO|IN_ATU_GESTAO|IN_ATU_GRAD_PRESENCIAL|IN_ATU_POS_EAD|IN_ATU_POS_PRESENCIAL|IN_ATU_SEQUENCIAL|IN_ATU_PESQUISA|IN_BOLSA_PESQUISA|IN_SUBSTITUTO|IN_EXERCICIO_DT_REF|IN_VISITANTE|IN_VISITANTE_IFES_VINCULO']\n",
      "CO_IES|NO_IES|CO_CATEGORIA_ADMINISTRATIVA|DS_CATEGORIA_ADMINISTRATIVA|CO_ORGANIZACAO_ACADEMICA|DS_ORGANIZACAO_ACADEMICA|IN_CAPITAL_IES|CO_DOCENTE_IES|CO_DOCENTE|CO_SITUACAO_DOCENTE|DS_SITUACAO_DOCENTE|CO_ESCOLARIDADE_DOCENTE|DS_ESCOLARIDADE_DOCENTE|CO_REGIME_TRABALHO|DS_REGIME_TRABALHO|IN_SEXO_DOCENTE|DS_SEXO_DOCENTE|NU_ANO_DOCENTE_NASC|NU_MES_DOCENTE_NASC|NU_DIA_DOCENTE_NASC|NU_IDADE_DOCENTE|CO_COR_RACA_DOCENTE|DS_COR_RACA_DOCENTE|CO_PAIS_DOCENTE|CO_NACIONALIDADE_DOCENTE|DS_NACIONALIDADE_DOCENTE|CO_UF_NASCIMENTO|CO_MUNICIPIO_NASCIMENTO|IN_DOCENTE_DEFICIENCIA|IN_DEF_CEGUEIRA|IN_DEF_BAIXA_VISAO|IN_DEF_SURDEZ|IN_DEF_AUDITIVA|IN_DEF_FISICA|IN_DEF_SURDOCEGUEIRA|IN_DEF_MULTIPLA|IN_DEF_INTELECTUAL|IN_ATU_EAD|IN_ATU_EXTENSAO|IN_ATU_GESTAO|IN_ATU_GRAD_PRESENCIAL|IN_ATU_POS_EAD|IN_ATU_POS_PRESENCIAL|IN_ATU_SEQUENCIAL|IN_ATU_PESQUISA|IN_BOLSA_PESQUISA|IN_SUBSTITUTO|IN_EXERCICIO_DT_REF|IN_VISITANTE|IN_VISITANTE_IFES_VINCULO\n"
     ]
    }
   ],
   "source": [
    "# pega amostra e mostra tela\n",
    "numPoints = DocenteRawData.count()\n",
    "print numPoints\n",
    "samplePoints = DocenteRawData.take(1)\n",
    "print samplePoints\n",
    "\n",
    "# começa limpeza dos dados\n",
    "from pyspark.mllib.regression import LabeledPoint\n",
    "import numpy as np\n",
    "\n",
    "\n",
    "header = DocenteRawData.take(1)[0] # o cabeçalho é a primeira linha do arquivo\n",
    "print header"
   ]
  },
  {
   "cell_type": "code",
   "execution_count": 5,
   "metadata": {
    "scrolled": true
   },
   "outputs": [
    {
     "name": "stdout",
     "output_type": "stream",
     "text": [
      "[u'CO_IES', u'NO_IES', u'CO_CATEGORIA_ADMINISTRATIVA', u'DS_CATEGORIA_ADMINISTRATIVA', u'CO_ORGANIZACAO_ACADEMICA', u'DS_ORGANIZACAO_ACADEMICA', u'IN_CAPITAL_IES', u'CO_DOCENTE_IES', u'CO_DOCENTE', u'CO_SITUACAO_DOCENTE', u'DS_SITUACAO_DOCENTE', u'CO_ESCOLARIDADE_DOCENTE', u'DS_ESCOLARIDADE_DOCENTE', u'CO_REGIME_TRABALHO', u'DS_REGIME_TRABALHO', u'IN_SEXO_DOCENTE', u'DS_SEXO_DOCENTE', u'NU_ANO_DOCENTE_NASC', u'NU_MES_DOCENTE_NASC', u'NU_DIA_DOCENTE_NASC', u'NU_IDADE_DOCENTE', u'CO_COR_RACA_DOCENTE', u'DS_COR_RACA_DOCENTE', u'CO_PAIS_DOCENTE', u'CO_NACIONALIDADE_DOCENTE', u'DS_NACIONALIDADE_DOCENTE', u'CO_UF_NASCIMENTO', u'CO_MUNICIPIO_NASCIMENTO', u'IN_DOCENTE_DEFICIENCIA', u'IN_DEF_CEGUEIRA', u'IN_DEF_BAIXA_VISAO', u'IN_DEF_SURDEZ', u'IN_DEF_AUDITIVA', u'IN_DEF_FISICA', u'IN_DEF_SURDOCEGUEIRA', u'IN_DEF_MULTIPLA', u'IN_DEF_INTELECTUAL', u'IN_ATU_EAD', u'IN_ATU_EXTENSAO', u'IN_ATU_GESTAO', u'IN_ATU_GRAD_PRESENCIAL', u'IN_ATU_POS_EAD', u'IN_ATU_POS_PRESENCIAL', u'IN_ATU_SEQUENCIAL', u'IN_ATU_PESQUISA', u'IN_BOLSA_PESQUISA', u'IN_SUBSTITUTO', u'IN_EXERCICIO_DT_REF', u'IN_VISITANTE', u'IN_VISITANTE_IFES_VINCULO']\n"
     ]
    }
   ],
   "source": [
    "import re\n",
    "import datetime\n",
    "from collections import namedtuple\n",
    "\n",
    "headeritems = header.split('|') # transformar o cabeçalho em lista\n",
    "print headeritems"
   ]
  },
  {
   "cell_type": "code",
   "execution_count": 6,
   "metadata": {},
   "outputs": [
    {
     "name": "stdout",
     "output_type": "stream",
     "text": [
      "('CO_IES', 'NO_IES', 'CO_CATEGORIA_ADMINISTRATIVA', 'DS_CATEGORIA_ADMINISTRATIVA', 'CO_ORGANIZACAO_ACADEMICA', 'DS_ORGANIZACAO_ACADEMICA', 'IN_CAPITAL_IES', 'CO_DOCENTE_IES', 'CO_DOCENTE', 'CO_SITUACAO_DOCENTE', 'DS_SITUACAO_DOCENTE', 'CO_ESCOLARIDADE_DOCENTE', 'DS_ESCOLARIDADE_DOCENTE', 'CO_REGIME_TRABALHO', 'DS_REGIME_TRABALHO', 'IN_SEXO_DOCENTE', 'DS_SEXO_DOCENTE', 'NU_ANO_DOCENTE_NASC', 'NU_MES_DOCENTE_NASC', 'NU_DIA_DOCENTE_NASC', 'NU_IDADE_DOCENTE', 'CO_COR_RACA_DOCENTE', 'DS_COR_RACA_DOCENTE', 'CO_PAIS_DOCENTE', 'CO_NACIONALIDADE_DOCENTE', 'DS_NACIONALIDADE_DOCENTE', 'CO_UF_NASCIMENTO', 'CO_MUNICIPIO_NASCIMENTO', 'IN_DOCENTE_DEFICIENCIA', 'IN_DEF_CEGUEIRA', 'IN_DEF_BAIXA_VISAO', 'IN_DEF_SURDEZ', 'IN_DEF_AUDITIVA', 'IN_DEF_FISICA', 'IN_DEF_SURDOCEGUEIRA', 'IN_DEF_MULTIPLA', 'IN_DEF_INTELECTUAL', 'IN_ATU_EAD', 'IN_ATU_EXTENSAO', 'IN_ATU_GESTAO', 'IN_ATU_GRAD_PRESENCIAL', 'IN_ATU_POS_EAD', 'IN_ATU_POS_PRESENCIAL', 'IN_ATU_SEQUENCIAL', 'IN_ATU_PESQUISA', 'IN_BOLSA_PESQUISA', 'IN_SUBSTITUTO', 'IN_EXERCICIO_DT_REF', 'IN_VISITANTE', 'IN_VISITANTE_IFES_VINCULO')\n"
     ]
    }
   ],
   "source": [
    "Docente = namedtuple('Docente',headeritems) # gera a namedtuple Docente com os campos de header\n",
    "print Docente._fields"
   ]
  },
  {
   "cell_type": "code",
   "execution_count": 10,
   "metadata": {},
   "outputs": [],
   "source": [
    "def ParseDocente(rec):\n",
    "    # utilizando re.split() vamos capturar nossos valores\n",
    "    CO_IES, NO_IES, CO_CATEGORIA_ADMINISTRATIVA, DS_CATEGORIA_ADMINISTRATIVA, CO_ORGANIZACAO_ACADEMICA, DS_ORGANIZACAO_ACADEMICA, IN_CAPITAL_IES, CO_DOCENTE_IES, CO_DOCENTE, CO_SITUACAO_DOCENTE, DS_SITUACAO_DOCENTE, CO_ESCOLARIDADE_DOCENTE, DS_ESCOLARIDADE_DOCENTE, CO_REGIME_TRABALHO, DS_REGIME_TRABALHO, IN_SEXO_DOCENTE, DS_SEXO_DOCENTE, NU_ANO_DOCENTE_NASC, NU_MES_DOCENTE_NASC, NU_DIA_DOCENTE_NASC, NU_IDADE_DOCENTE, CO_COR_RACA_DOCENTE, DS_COR_RACA_DOCENTE, CO_PAIS_DOCENTE, CO_NACIONALIDADE_DOCENTE, DS_NACIONALIDADE_DOCENTE, CO_UF_NASCIMENTO, CO_MUNICIPIO_NASCIMENTO, IN_DOCENTE_DEFICIENCIA, IN_DEF_CEGUEIRA, IN_DEF_BAIXA_VISAO, IN_DEF_SURDEZ, IN_DEF_AUDITIVA, IN_DEF_FISICA, IN_DEF_SURDOCEGUEIRA, IN_DEF_MULTIPLA, IN_DEF_INTELECTUAL, IN_ATU_EAD, IN_ATU_EXTENSAO, IN_ATU_GESTAO, IN_ATU_GRAD_PRESENCIAL, IN_ATU_POS_EAD, IN_ATU_POS_PRESENCIAL, IN_ATU_SEQUENCIAL, IN_ATU_PESQUISA, IN_BOLSA_PESQUISA, IN_SUBSTITUTO, IN_EXERCICIO_DT_REF, IN_VISITANTE, IN_VISITANTE_IFES_VINCULO = tuple(rec.split('|'))\n",
    "    \n",
    "\n",
    "    return Docente(CO_IES, NO_IES, CO_CATEGORIA_ADMINISTRATIVA, DS_CATEGORIA_ADMINISTRATIVA, CO_ORGANIZACAO_ACADEMICA, DS_ORGANIZACAO_ACADEMICA, IN_CAPITAL_IES, CO_DOCENTE_IES, CO_DOCENTE, CO_SITUACAO_DOCENTE, DS_SITUACAO_DOCENTE, CO_ESCOLARIDADE_DOCENTE, DS_ESCOLARIDADE_DOCENTE, CO_REGIME_TRABALHO, DS_REGIME_TRABALHO, IN_SEXO_DOCENTE, DS_SEXO_DOCENTE, NU_ANO_DOCENTE_NASC, NU_MES_DOCENTE_NASC, NU_DIA_DOCENTE_NASC, NU_IDADE_DOCENTE, CO_COR_RACA_DOCENTE, DS_COR_RACA_DOCENTE, CO_PAIS_DOCENTE, CO_NACIONALIDADE_DOCENTE, DS_NACIONALIDADE_DOCENTE, CO_UF_NASCIMENTO, CO_MUNICIPIO_NASCIMENTO, IN_DOCENTE_DEFICIENCIA, IN_DEF_CEGUEIRA, IN_DEF_BAIXA_VISAO, IN_DEF_SURDEZ, IN_DEF_AUDITIVA, IN_DEF_FISICA, IN_DEF_SURDOCEGUEIRA, IN_DEF_MULTIPLA, IN_DEF_INTELECTUAL, IN_ATU_EAD, IN_ATU_EXTENSAO, IN_ATU_GESTAO, IN_ATU_GRAD_PRESENCIAL, IN_ATU_POS_EAD, IN_ATU_POS_PRESENCIAL, IN_ATU_SEQUENCIAL, IN_ATU_PESQUISA, IN_BOLSA_PESQUISA, IN_SUBSTITUTO, IN_EXERCICIO_DT_REF, IN_VISITANTE, IN_VISITANTE_IFES_VINCULO)\n"
   ]
  },
  {
   "cell_type": "code",
   "execution_count": 11,
   "metadata": {},
   "outputs": [
    {
     "name": "stdout",
     "output_type": "stream",
     "text": [
      "Docente(CO_IES=u'1', NO_IES=u'UNIVERSIDADE FEDERAL DE MATO GROSSO', CO_CATEGORIA_ADMINISTRATIVA=u'1', DS_CATEGORIA_ADMINISTRATIVA=u'P\\ufffdblica Federal', CO_ORGANIZACAO_ACADEMICA=u'1', DS_ORGANIZACAO_ACADEMICA=u'Universidade', IN_CAPITAL_IES=u'1', CO_DOCENTE_IES=u'559840', CO_DOCENTE=u'669', CO_SITUACAO_DOCENTE=u'1', DS_SITUACAO_DOCENTE=u'Em exerc\\ufffdcio', CO_ESCOLARIDADE_DOCENTE=u'5', DS_ESCOLARIDADE_DOCENTE=u'Doutorado', CO_REGIME_TRABALHO=u'2', DS_REGIME_TRABALHO=u'Tempo Integral sem dedica\\ufffd\\ufffdo exclusiva', IN_SEXO_DOCENTE=u'0', DS_SEXO_DOCENTE=u'Masculino', NU_ANO_DOCENTE_NASC=u'1957', NU_MES_DOCENTE_NASC=u'1', NU_DIA_DOCENTE_NASC=u'28', NU_IDADE_DOCENTE=u'59', CO_COR_RACA_DOCENTE=u'3', DS_COR_RACA_DOCENTE=u'Parda', CO_PAIS_DOCENTE=u'76', CO_NACIONALIDADE_DOCENTE=u'1', DS_NACIONALIDADE_DOCENTE=u'Brasileira', CO_UF_NASCIMENTO=u'51', CO_MUNICIPIO_NASCIMENTO=u'5103007', IN_DOCENTE_DEFICIENCIA=u'0', IN_DEF_CEGUEIRA=u'', IN_DEF_BAIXA_VISAO=u'', IN_DEF_SURDEZ=u'', IN_DEF_AUDITIVA=u'', IN_DEF_FISICA=u'', IN_DEF_SURDOCEGUEIRA=u'', IN_DEF_MULTIPLA=u'', IN_DEF_INTELECTUAL=u'', IN_ATU_EAD=u'0', IN_ATU_EXTENSAO=u'0', IN_ATU_GESTAO=u'1', IN_ATU_GRAD_PRESENCIAL=u'0', IN_ATU_POS_EAD=u'0', IN_ATU_POS_PRESENCIAL=u'0', IN_ATU_SEQUENCIAL=u'0', IN_ATU_PESQUISA=u'0', IN_BOLSA_PESQUISA=u'', IN_SUBSTITUTO=u'0', IN_EXERCICIO_DT_REF=u'1', IN_VISITANTE=u'0', IN_VISITANTE_IFES_VINCULO=u'')\n",
      "397611\n"
     ]
    }
   ],
   "source": [
    "# Aplique a função ParseCurso para cada objeto da base\n",
    "DocenteHeadlessRDD = (DocenteRawData\n",
    "                    .filter(lambda x: x != header)\n",
    "                    .map(ParseDocente)\n",
    "                    )\n",
    "\n",
    "\n",
    "firstClean = DocenteHeadlessRDD.take(1)[0]\n",
    "totalRecs = DocenteHeadlessRDD.count()\n",
    "print firstClean\n",
    "print totalRecs"
   ]
  },
  {
   "cell_type": "code",
   "execution_count": 13,
   "metadata": {},
   "outputs": [
    {
     "name": "stdout",
     "output_type": "stream",
     "text": [
      "\n",
      "As 20 IES com mais docentes:\n",
      "[(u'UNIVERSIDADE DE S\\ufffdO PAULO', 6286), (u'UNIVERSIDADE PAULISTA', 6183), (u'UNIVERSIDADE FEDERAL DO RIO DE JANEIRO', 4102), (u'UNIVERSIDADE FEDERAL FLUMINENSE', 3701), (u'UNIVERSIDADE FEDERAL DE MINAS GERAIS', 3473), (u'UNIVERSIDADE ESTADUAL PAULISTA J\\ufffdLIO DE MESQUITA FILHO', 3457), (u'UNIVERSIDADE FEDERAL DE PERNAMBUCO', 3081), (u'UNIVERSIDADE EST\\ufffdCIO DE S\\ufffd', 3044), (u'UNIVERSIDADE DE BRAS\\ufffdLIA', 3034), (u'UNIVERSIDADE FEDERAL DA BAHIA', 2954), (u'UNIVERSIDADE FEDERAL DE GOI\\ufffdS', 2942), (u'UNIVERSIDADE FEDERAL DO RIO GRANDE DO NORTE', 2927), (u'UNIVERSIDADE TECNOL\\ufffdGICA FEDERAL DO PARAN\\ufffd', 2908), (u'UNIVERSIDADE FEDERAL DO RIO GRANDE DO SUL', 2846), (u'UNIVERSIDADE DO ESTADO DO RIO DE JANEIRO', 2796), (u'UNIVERSIDADE FEDERAL DA PARA\\ufffdBA', 2760), (u'UNIVERSIDADE FEDERAL DO PAR\\ufffd', 2611), (u'UNIVERSIDADE FEDERAL DE SANTA CATARINA', 2606), (u'PONTIF\\ufffdCIA UNIVERSIDADE CAT\\ufffdLICA DE MINAS GERAIS', 2467), (u'UNIVERSIDADE FEDERAL DO PARAN\\ufffd', 2411)]\n"
     ]
    }
   ],
   "source": [
    "# IES com mais docentes\n",
    "\n",
    "IESDocenteRDD = (DocenteHeadlessRDD\n",
    "               .map(lambda rec: (rec.NO_IES,1))\n",
    "               .reduceByKey(lambda x,y: x+y)\n",
    "               )\n",
    "IESDocenteCount = sorted(IESDocenteRDD.collect(), key=lambda x: -x[1])\n",
    "print '\\nAs 20 IES com mais docentes:\\n{0}'.format(IESDocenteCount[:20])"
   ]
  },
  {
   "cell_type": "code",
   "execution_count": null,
   "metadata": {
    "collapsed": true
   },
   "outputs": [],
   "source": [
    "# IES com mais docentes\n",
    "\n",
    "IESDocenteRDD = (DocenteHeadlessRDD\n",
    "               .map(lambda rec: (rec.CO_IES,1))\n",
    "               .reduceByKey(lambda x,y: x+y)\n",
    "               )\n",
    "\n",
    "print IESDocenteRDD.collect()"
   ]
  },
  {
   "cell_type": "code",
   "execution_count": null,
   "metadata": {
    "collapsed": true
   },
   "outputs": [],
   "source": []
  }
 ],
 "metadata": {
  "kernelspec": {
   "display_name": "Python 2",
   "language": "python",
   "name": "python2"
  },
  "language_info": {
   "codemirror_mode": {
    "name": "ipython",
    "version": 2
   },
   "file_extension": ".py",
   "mimetype": "text/x-python",
   "name": "python",
   "nbconvert_exporter": "python",
   "pygments_lexer": "ipython2",
   "version": "2.7.14"
  }
 },
 "nbformat": 4,
 "nbformat_minor": 2
}
